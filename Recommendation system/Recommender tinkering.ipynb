{
 "cells": [
  {
   "cell_type": "code",
   "execution_count": 2,
   "id": "3636f9cf",
   "metadata": {},
   "outputs": [],
   "source": [
    "import pandas as pd\n",
    "import numpy as np"
   ]
  },
  {
   "cell_type": "code",
   "execution_count": 3,
   "id": "0639c940",
   "metadata": {},
   "outputs": [],
   "source": [
    "from sklearn.feature_extraction.text import CountVectorizer\n",
    "from sklearn.metrics.pairwise import cosine_similarity"
   ]
  },
  {
   "cell_type": "code",
   "execution_count": 4,
   "id": "6ebf81c4",
   "metadata": {},
   "outputs": [],
   "source": [
    "def get_title_from_index(index):\n",
    "\treturn df[df.index == index][\"title\"].values[0]\n",
    "\n",
    "def get_index_from_title(title):\n",
    "\treturn df[df.title == title][\"index\"].values[0]"
   ]
  },
  {
   "cell_type": "code",
   "execution_count": 5,
   "id": "3e0ccd9a",
   "metadata": {},
   "outputs": [
    {
     "name": "stdout",
     "output_type": "stream",
     "text": [
      "Index(['index', 'budget', 'genres', 'homepage', 'id', 'keywords',\n",
      "       'original_language', 'original_title', 'overview', 'popularity',\n",
      "       'production_companies', 'production_countries', 'release_date',\n",
      "       'revenue', 'runtime', 'spoken_languages', 'status', 'tagline', 'title',\n",
      "       'vote_average', 'vote_count', 'cast', 'crew', 'director'],\n",
      "      dtype='object')\n"
     ]
    }
   ],
   "source": [
    "##Step 1: Read CSV File\n",
    "df = pd.read_csv(\"https://raw.githubusercontent.com/codeheroku/Introduction-to-Machine-Learning/master/Building%20a%20Movie%20Recommendation%20Engine/movie_dataset.csv\")\n",
    "print (df.columns)"
   ]
  },
  {
   "cell_type": "code",
   "execution_count": 7,
   "id": "87701681",
   "metadata": {},
   "outputs": [
    {
     "data": {
      "text/plain": [
       "0       culture clash future space war space colony so...\n",
       "1       ocean drug abuse exotic island east india trad...\n",
       "2              spy based on novel secret agent sequel mi6\n",
       "3       dc comics crime fighter terrorist secret ident...\n",
       "4       based on novel mars medallion space travel pri...\n",
       "                              ...                        \n",
       "4798    united states\\u2013mexico barrier legs arms pa...\n",
       "4799                                                  NaN\n",
       "4800    date love at first sight narration investigati...\n",
       "4801                                                  NaN\n",
       "4802                 obsession camcorder crush dream girl\n",
       "Name: keywords, Length: 4803, dtype: object"
      ]
     },
     "execution_count": 7,
     "metadata": {},
     "output_type": "execute_result"
    }
   ],
   "source": [
    "df['keywords']"
   ]
  },
  {
   "cell_type": "code",
   "execution_count": 112,
   "id": "3c984a5a",
   "metadata": {},
   "outputs": [
    {
     "data": {
      "text/plain": [
       "True"
      ]
     },
     "execution_count": 112,
     "metadata": {},
     "output_type": "execute_result"
    }
   ],
   "source": [
    "'Alien' in df['title'].values"
   ]
  },
  {
   "cell_type": "code",
   "execution_count": 113,
   "id": "98ac29d6",
   "metadata": {},
   "outputs": [],
   "source": [
    "##Step 2: Select Features\n",
    "features = ['keywords']"
   ]
  },
  {
   "cell_type": "code",
   "execution_count": 114,
   "id": "e839322c",
   "metadata": {},
   "outputs": [
    {
     "name": "stdout",
     "output_type": "stream",
     "text": [
      "0    culture clash future space war space colony so...\n",
      "1    ocean drug abuse exotic island east india trad...\n",
      "2           spy based on novel secret agent sequel mi6\n",
      "3    dc comics crime fighter terrorist secret ident...\n",
      "4    based on novel mars medallion space travel pri...\n",
      "Name: combined_features, dtype: object\n"
     ]
    }
   ],
   "source": [
    "##Step 3: Create a column in DF which combines all selected features\n",
    "for feature in features:\n",
    "\tdf[feature] = df[feature].fillna('')\n",
    "\n",
    "def combine_features(row):\n",
    "\ttry:\n",
    "\t\t#return row['tagline'] +\" \"+row['cast']+\" \"+row[\"genres\"]+\" \"+row[\"director\"]\n",
    "\t\treturn row['keywords'] \n",
    "\texcept:\n",
    "\t\tprint (\"Error:\", row)\t\n",
    "\n",
    "df[\"combined_features\"] = df.apply(combine_features,axis=1)\n",
    "\n",
    "print (df[\"combined_features\"].head())"
   ]
  },
  {
   "cell_type": "code",
   "execution_count": 115,
   "id": "22de96da",
   "metadata": {},
   "outputs": [
    {
     "data": {
      "text/html": [
       "<div>\n",
       "<style scoped>\n",
       "    .dataframe tbody tr th:only-of-type {\n",
       "        vertical-align: middle;\n",
       "    }\n",
       "\n",
       "    .dataframe tbody tr th {\n",
       "        vertical-align: top;\n",
       "    }\n",
       "\n",
       "    .dataframe thead th {\n",
       "        text-align: right;\n",
       "    }\n",
       "</style>\n",
       "<table border=\"1\" class=\"dataframe\">\n",
       "  <thead>\n",
       "    <tr style=\"text-align: right;\">\n",
       "      <th></th>\n",
       "      <th>tagline</th>\n",
       "      <th>cast</th>\n",
       "      <th>genres</th>\n",
       "      <th>director</th>\n",
       "      <th>combined_features</th>\n",
       "    </tr>\n",
       "  </thead>\n",
       "  <tbody>\n",
       "    <tr>\n",
       "      <th>0</th>\n",
       "      <td>Enter the World of Pandora.</td>\n",
       "      <td>Sam Worthington Zoe Saldana Sigourney Weaver S...</td>\n",
       "      <td>Action Adventure Fantasy Science Fiction</td>\n",
       "      <td>James Cameron</td>\n",
       "      <td>culture clash future space war space colony so...</td>\n",
       "    </tr>\n",
       "    <tr>\n",
       "      <th>1</th>\n",
       "      <td>At the end of the world, the adventure begins.</td>\n",
       "      <td>Johnny Depp Orlando Bloom Keira Knightley Stel...</td>\n",
       "      <td>Adventure Fantasy Action</td>\n",
       "      <td>Gore Verbinski</td>\n",
       "      <td>ocean drug abuse exotic island east india trad...</td>\n",
       "    </tr>\n",
       "    <tr>\n",
       "      <th>2</th>\n",
       "      <td>A Plan No One Escapes</td>\n",
       "      <td>Daniel Craig Christoph Waltz L\\u00e9a Seydoux ...</td>\n",
       "      <td>Action Adventure Crime</td>\n",
       "      <td>Sam Mendes</td>\n",
       "      <td>spy based on novel secret agent sequel mi6</td>\n",
       "    </tr>\n",
       "    <tr>\n",
       "      <th>3</th>\n",
       "      <td>The Legend Ends</td>\n",
       "      <td>Christian Bale Michael Caine Gary Oldman Anne ...</td>\n",
       "      <td>Action Crime Drama Thriller</td>\n",
       "      <td>Christopher Nolan</td>\n",
       "      <td>dc comics crime fighter terrorist secret ident...</td>\n",
       "    </tr>\n",
       "    <tr>\n",
       "      <th>4</th>\n",
       "      <td>Lost in our world, found in another.</td>\n",
       "      <td>Taylor Kitsch Lynn Collins Samantha Morton Wil...</td>\n",
       "      <td>Action Adventure Science Fiction</td>\n",
       "      <td>Andrew Stanton</td>\n",
       "      <td>based on novel mars medallion space travel pri...</td>\n",
       "    </tr>\n",
       "    <tr>\n",
       "      <th>...</th>\n",
       "      <td>...</td>\n",
       "      <td>...</td>\n",
       "      <td>...</td>\n",
       "      <td>...</td>\n",
       "      <td>...</td>\n",
       "    </tr>\n",
       "    <tr>\n",
       "      <th>4798</th>\n",
       "      <td>He didn't come looking for trouble, but troubl...</td>\n",
       "      <td>Carlos Gallardo Jaime de Hoyos Peter Marquardt...</td>\n",
       "      <td>Action Crime Thriller</td>\n",
       "      <td>Robert Rodriguez</td>\n",
       "      <td>united states\\u2013mexico barrier legs arms pa...</td>\n",
       "    </tr>\n",
       "    <tr>\n",
       "      <th>4799</th>\n",
       "      <td>A newlywed couple's honeymoon is upended by th...</td>\n",
       "      <td>Edward Burns Kerry Bish\\u00e9 Marsha Dietlein ...</td>\n",
       "      <td>Comedy Romance</td>\n",
       "      <td>Edward Burns</td>\n",
       "      <td></td>\n",
       "    </tr>\n",
       "    <tr>\n",
       "      <th>4800</th>\n",
       "      <td>NaN</td>\n",
       "      <td>Eric Mabius Kristin Booth Crystal Lowe Geoff G...</td>\n",
       "      <td>Comedy Drama Romance TV Movie</td>\n",
       "      <td>Scott Smith</td>\n",
       "      <td>date love at first sight narration investigati...</td>\n",
       "    </tr>\n",
       "    <tr>\n",
       "      <th>4801</th>\n",
       "      <td>A New Yorker in Shanghai</td>\n",
       "      <td>Daniel Henney Eliza Coupe Bill Paxton Alan Ruc...</td>\n",
       "      <td>NaN</td>\n",
       "      <td>Daniel Hsia</td>\n",
       "      <td></td>\n",
       "    </tr>\n",
       "    <tr>\n",
       "      <th>4802</th>\n",
       "      <td>NaN</td>\n",
       "      <td>Drew Barrymore Brian Herzlinger Corey Feldman ...</td>\n",
       "      <td>Documentary</td>\n",
       "      <td>Brian Herzlinger</td>\n",
       "      <td>obsession camcorder crush dream girl</td>\n",
       "    </tr>\n",
       "  </tbody>\n",
       "</table>\n",
       "<p>4803 rows × 5 columns</p>\n",
       "</div>"
      ],
      "text/plain": [
       "                                                tagline  \\\n",
       "0                           Enter the World of Pandora.   \n",
       "1        At the end of the world, the adventure begins.   \n",
       "2                                 A Plan No One Escapes   \n",
       "3                                       The Legend Ends   \n",
       "4                  Lost in our world, found in another.   \n",
       "...                                                 ...   \n",
       "4798  He didn't come looking for trouble, but troubl...   \n",
       "4799  A newlywed couple's honeymoon is upended by th...   \n",
       "4800                                                NaN   \n",
       "4801                           A New Yorker in Shanghai   \n",
       "4802                                                NaN   \n",
       "\n",
       "                                                   cast  \\\n",
       "0     Sam Worthington Zoe Saldana Sigourney Weaver S...   \n",
       "1     Johnny Depp Orlando Bloom Keira Knightley Stel...   \n",
       "2     Daniel Craig Christoph Waltz L\\u00e9a Seydoux ...   \n",
       "3     Christian Bale Michael Caine Gary Oldman Anne ...   \n",
       "4     Taylor Kitsch Lynn Collins Samantha Morton Wil...   \n",
       "...                                                 ...   \n",
       "4798  Carlos Gallardo Jaime de Hoyos Peter Marquardt...   \n",
       "4799  Edward Burns Kerry Bish\\u00e9 Marsha Dietlein ...   \n",
       "4800  Eric Mabius Kristin Booth Crystal Lowe Geoff G...   \n",
       "4801  Daniel Henney Eliza Coupe Bill Paxton Alan Ruc...   \n",
       "4802  Drew Barrymore Brian Herzlinger Corey Feldman ...   \n",
       "\n",
       "                                        genres           director  \\\n",
       "0     Action Adventure Fantasy Science Fiction      James Cameron   \n",
       "1                     Adventure Fantasy Action     Gore Verbinski   \n",
       "2                       Action Adventure Crime         Sam Mendes   \n",
       "3                  Action Crime Drama Thriller  Christopher Nolan   \n",
       "4             Action Adventure Science Fiction     Andrew Stanton   \n",
       "...                                        ...                ...   \n",
       "4798                     Action Crime Thriller   Robert Rodriguez   \n",
       "4799                            Comedy Romance       Edward Burns   \n",
       "4800             Comedy Drama Romance TV Movie        Scott Smith   \n",
       "4801                                       NaN        Daniel Hsia   \n",
       "4802                               Documentary   Brian Herzlinger   \n",
       "\n",
       "                                      combined_features  \n",
       "0     culture clash future space war space colony so...  \n",
       "1     ocean drug abuse exotic island east india trad...  \n",
       "2            spy based on novel secret agent sequel mi6  \n",
       "3     dc comics crime fighter terrorist secret ident...  \n",
       "4     based on novel mars medallion space travel pri...  \n",
       "...                                                 ...  \n",
       "4798  united states\\u2013mexico barrier legs arms pa...  \n",
       "4799                                                     \n",
       "4800  date love at first sight narration investigati...  \n",
       "4801                                                     \n",
       "4802               obsession camcorder crush dream girl  \n",
       "\n",
       "[4803 rows x 5 columns]"
      ]
     },
     "execution_count": 115,
     "metadata": {},
     "output_type": "execute_result"
    }
   ],
   "source": [
    "df[['tagline','cast','genres','director','combined_features']]"
   ]
  },
  {
   "cell_type": "code",
   "execution_count": null,
   "id": "186038dc",
   "metadata": {},
   "outputs": [],
   "source": []
  },
  {
   "cell_type": "code",
   "execution_count": 116,
   "id": "688d2aaf",
   "metadata": {},
   "outputs": [],
   "source": [
    "##Step 4: Create count matrix from this new combined column\n",
    "cv = CountVectorizer()\n",
    "\n",
    "count_matrix = cv.fit_transform(df[\"combined_features\"])"
   ]
  },
  {
   "cell_type": "code",
   "execution_count": 117,
   "id": "6a39d369",
   "metadata": {},
   "outputs": [
    {
     "data": {
      "text/plain": [
       "array([[0, 0, 0, ..., 0, 0, 0],\n",
       "       [0, 0, 0, ..., 0, 0, 0],\n",
       "       [0, 0, 0, ..., 0, 0, 0],\n",
       "       ...,\n",
       "       [0, 0, 0, ..., 0, 0, 0],\n",
       "       [0, 0, 0, ..., 0, 0, 0],\n",
       "       [0, 0, 0, ..., 0, 0, 0]], dtype=int64)"
      ]
     },
     "execution_count": 117,
     "metadata": {},
     "output_type": "execute_result"
    }
   ],
   "source": [
    "count_matrix.toarray()"
   ]
  },
  {
   "cell_type": "code",
   "execution_count": 118,
   "id": "57d5e798",
   "metadata": {},
   "outputs": [],
   "source": [
    "##Step 5: Compute the Cosine Similarity based on the count_matrix\n",
    "cosine_sim = cosine_similarity(count_matrix) \n",
    "movie_user_likes = \"Cars\""
   ]
  },
  {
   "cell_type": "code",
   "execution_count": 119,
   "id": "cdd55558",
   "metadata": {},
   "outputs": [],
   "source": [
    "## Step 6: Get index of this movie from its title\n",
    "movie_index = get_index_from_title(movie_user_likes)\n",
    "\n",
    "similar_movies =  list(enumerate(cosine_sim[movie_index]))"
   ]
  },
  {
   "cell_type": "code",
   "execution_count": 120,
   "id": "f80c8460",
   "metadata": {},
   "outputs": [],
   "source": [
    "## Step 7: Get a list of similar movies in descending order of similarity score\n",
    "sorted_similar_movies = sorted(similar_movies,key=lambda x:x[1],reverse=True)"
   ]
  },
  {
   "cell_type": "code",
   "execution_count": 121,
   "id": "97b2e6ed",
   "metadata": {},
   "outputs": [
    {
     "name": "stdout",
     "output_type": "stream",
     "text": [
      "Cars\n",
      "The Fast and the Furious: Tokyo Drift\n",
      "The Final Destination\n",
      "2 Fast 2 Furious\n",
      "Furious 7\n",
      "Days of Thunder\n",
      "Herbie Fully Loaded\n",
      "Back to the Future Part II\n",
      "The Transporter\n",
      "Death Race\n",
      "Gone in Sixty Seconds\n",
      "Here On Earth\n",
      "The Fast and the Furious\n",
      "Turbo\n",
      "Sorcerer\n",
      "American Graffiti\n",
      "Cars 2\n",
      "Princess Mononoke\n",
      "Back to the Future\n",
      "Speed Racer\n",
      "Dragonfly\n",
      "Dawn of the Dead\n",
      "Are We There Yet?\n",
      "Angel Eyes\n",
      "The Woman Chaser\n",
      "Premonition\n",
      "Need for Speed\n",
      "Driven\n",
      "The Siege\n",
      "Hard Rain\n",
      "28 Days\n",
      "Get Carter\n",
      "Breakdown\n",
      "The Transporter Refueled\n",
      "The Bank Job\n",
      "Carlos\n",
      "Soul Survivors\n",
      "Christmas Eve\n",
      "Horrible Bosses 2\n",
      "The Animal\n",
      "Armored\n",
      "Pretty Woman\n",
      "If I Stay\n",
      "Grease\n",
      "As Above, So Below\n",
      "Holy Motors\n",
      "Speedway Junky\n",
      "Fast Five\n",
      "Nine\n",
      "xXx\n",
      "Back to the Future Part III\n"
     ]
    }
   ],
   "source": [
    "## Step 8: Print titles of first 50 movies\n",
    "i=0\n",
    "for element in sorted_similar_movies:\n",
    "\t\tprint (get_title_from_index(element[0]))\n",
    "\t\ti=i+1\n",
    "\t\tif i>50:\n",
    "\t\t\tbreak"
   ]
  },
  {
   "cell_type": "code",
   "execution_count": null,
   "id": "92dab892",
   "metadata": {},
   "outputs": [],
   "source": []
  }
 ],
 "metadata": {
  "kernelspec": {
   "display_name": "Python 3 (ipykernel)",
   "language": "python",
   "name": "python3"
  },
  "language_info": {
   "codemirror_mode": {
    "name": "ipython",
    "version": 3
   },
   "file_extension": ".py",
   "mimetype": "text/x-python",
   "name": "python",
   "nbconvert_exporter": "python",
   "pygments_lexer": "ipython3",
   "version": "3.9.7"
  }
 },
 "nbformat": 4,
 "nbformat_minor": 5
}
